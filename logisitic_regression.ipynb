{
 "cells": [
  {
   "cell_type": "code",
   "execution_count": 94,
   "id": "86bdd891",
   "metadata": {},
   "outputs": [],
   "source": [
    "import numpy as np\n",
    "from sklearn.datasets import make_classification\n",
    "import matplotlib.pyplot as plt\n",
    "from tqdm import trange"
   ]
  },
  {
   "cell_type": "markdown",
   "id": "8893a27d",
   "metadata": {},
   "source": [
    "# Dataset creation"
   ]
  },
  {
   "cell_type": "code",
   "execution_count": 20,
   "id": "8a6bd389",
   "metadata": {},
   "outputs": [
    {
     "data": {
      "text/plain": [
       "((100, 20), (100,))"
      ]
     },
     "execution_count": 20,
     "metadata": {},
     "output_type": "execute_result"
    }
   ],
   "source": [
    "x, y = make_classification()\n",
    "x.shape, y.shape"
   ]
  },
  {
   "cell_type": "code",
   "execution_count": 8,
   "id": "117e4556",
   "metadata": {},
   "outputs": [
    {
     "data": {
      "text/plain": [
       "20"
      ]
     },
     "execution_count": 8,
     "metadata": {},
     "output_type": "execute_result"
    }
   ],
   "source": [
    "n_features = x.shape[1]\n",
    "n_features"
   ]
  },
  {
   "cell_type": "code",
   "execution_count": 21,
   "id": "a66465c7",
   "metadata": {},
   "outputs": [
    {
     "data": {
      "text/plain": [
       "100"
      ]
     },
     "execution_count": 21,
     "metadata": {},
     "output_type": "execute_result"
    }
   ],
   "source": [
    "n_examples = x.shape[0]\n",
    "n_examples"
   ]
  },
  {
   "cell_type": "markdown",
   "id": "0dd56626",
   "metadata": {},
   "source": [
    "# Weight init"
   ]
  },
  {
   "cell_type": "code",
   "execution_count": 86,
   "id": "7a564b0d",
   "metadata": {},
   "outputs": [
    {
     "data": {
      "text/plain": [
       "array([ 0.08150569, -0.00404648, -0.29091259,  0.79056852, -0.45088197,\n",
       "        0.73291459,  0.29098545, -1.44219246,  0.28113616, -1.91185713,\n",
       "       -1.13930566,  0.72361253,  0.10668733,  0.02573337,  0.43395258,\n",
       "       -0.17638471, -0.44909324, -1.64774506,  1.06660019, -2.23706748])"
      ]
     },
     "execution_count": 86,
     "metadata": {},
     "output_type": "execute_result"
    }
   ],
   "source": [
    "theta = np.random.normal(size=(n_features))\n",
    "theta"
   ]
  },
  {
   "cell_type": "markdown",
   "id": "6820c1d5",
   "metadata": {},
   "source": [
    "# Hypothesis Function"
   ]
  },
  {
   "cell_type": "code",
   "execution_count": 87,
   "id": "a187aa9a",
   "metadata": {},
   "outputs": [],
   "source": [
    "def sigmoid(x):\n",
    "    return 1 / (1+np.exp(-x))\n",
    "    \n",
    "def h(x):\n",
    "    z = theta.dot(x)\n",
    "    return sigmoid(z)\n",
    "    \n",
    "# for LR, hypothesis is sigmoid"
   ]
  },
  {
   "cell_type": "markdown",
   "id": "ebe418d2",
   "metadata": {},
   "source": [
    "# Cost Function"
   ]
  },
  {
   "cell_type": "code",
   "execution_count": 88,
   "id": "4fbe609a",
   "metadata": {},
   "outputs": [],
   "source": [
    "# cost function of LR is negative log-likelihood\n",
    "def J(theta):\n",
    "    cost = 0\n",
    "    for i in range(n_examples):\n",
    "        ll = (y[i] * np.log(h(x[i]))) + ((1-y[i]) * np.log(1-h(x[i])))\n",
    "        cost += ll\n",
    "    return (-cost)/n_examples"
   ]
  },
  {
   "cell_type": "code",
   "execution_count": 89,
   "id": "24fadd99",
   "metadata": {},
   "outputs": [
    {
     "data": {
      "text/plain": [
       "2.0210438580969674"
      ]
     },
     "execution_count": 89,
     "metadata": {},
     "output_type": "execute_result"
    }
   ],
   "source": [
    "J(theta)"
   ]
  },
  {
   "cell_type": "markdown",
   "id": "402e9be1",
   "metadata": {},
   "source": [
    "# Training"
   ]
  },
  {
   "cell_type": "code",
   "execution_count": 103,
   "id": "3cd63481",
   "metadata": {},
   "outputs": [
    {
     "name": "stderr",
     "output_type": "stream",
     "text": [
      "100%|██████████████████████████████████████████████████████████████████████████████████████████████████████████████| 1000/1000 [00:04<00:00, 225.36it/s]\n"
     ]
    }
   ],
   "source": [
    "theta = np.random.normal(size=(n_features))\n",
    "\n",
    "alpha = 0.1\n",
    "n_iter = 1000\n",
    "\n",
    "js = []\n",
    "\n",
    "for epoch in trange(n_iter):\n",
    "    # do gradient descent per feature\n",
    "    for j in range(n_features):\n",
    "        dj_dtheta_j = 0\n",
    "        for i in range(n_examples):\n",
    "            dj_dtheta_j += (h(x[i]) - y[i]) * x[i][j]\n",
    "        dj_dtheta_j /= n_examples         \n",
    "        theta[j] -= alpha * dj_dtheta_j \n",
    "            \n",
    "    js.append(J(theta))\n",
    "    \n",
    "#     print(f'iter={epoch}, J={J(theta)}')"
   ]
  },
  {
   "cell_type": "code",
   "execution_count": 104,
   "id": "0624c415",
   "metadata": {},
   "outputs": [
    {
     "data": {
      "text/plain": [
       "[<matplotlib.lines.Line2D at 0x147d90b50>]"
      ]
     },
     "execution_count": 104,
     "metadata": {},
     "output_type": "execute_result"
    },
    {
     "data": {
      "image/png": "[encoded data removed]",
      "text/plain": [
       "<Figure size 432x288 with 1 Axes>"
      ]
     },
     "metadata": {
      "needs_background": "light"
     },
     "output_type": "display_data"
    }
   ],
   "source": [
    "plt.plot(range(n_iter), js)"
   ]
  },
  {
   "cell_type": "code",
   "execution_count": 105,
   "id": "0909f048",
   "metadata": {},
   "outputs": [
    {
     "data": {
      "text/plain": [
       "0.95"
      ]
     },
     "execution_count": 105,
     "metadata": {},
     "output_type": "execute_result"
    }
   ],
   "source": [
    "correct = 0\n",
    "for i in range(n_examples):\n",
    "    if h(x[i]) >= 0.5:\n",
    "        if y[i] == 1:\n",
    "            correct += 1\n",
    "    else:\n",
    "        if y[i] == 0:\n",
    "            correct += 1\n",
    "            \n",
    "correct / n_examples"
   ]
  },
  {
   "cell_type": "markdown",
   "id": "34476149",
   "metadata": {},
   "source": [
    "# Sklearn\n"
   ]
  },
  {
   "cell_type": "code",
   "execution_count": 65,
   "id": "8a7b6b9e",
   "metadata": {},
   "outputs": [],
   "source": [
    "from sklearn.linear_model import LogisticRegression\n",
    "from sklearn.metrics import roc_auc_score, accuracy_score, confusion_matrix\n"
   ]
  },
  {
   "cell_type": "code",
   "execution_count": 69,
   "id": "b6214ef9",
   "metadata": {},
   "outputs": [
    {
     "name": "stdout",
     "output_type": "stream",
     "text": [
      "RUNNING THE L-BFGS-B CODE\n",
      "\n",
      "           * * *\n",
      "\n"
     ]
    },
    {
     "name": "stderr",
     "output_type": "stream",
     "text": [
      "[Parallel(n_jobs=1)]: Using backend SequentialBackend with 1 concurrent workers.\n",
      "[Parallel(n_jobs=1)]: Done   1 out of   1 | elapsed:    0.0s finished\n",
      " This problem is unconstrained.\n"
     ]
    },
    {
     "name": "stdout",
     "output_type": "stream",
     "text": [
      "Machine precision = 2.220D-16\n",
      " N =           21     M =           10\n",
      "\n",
      "At X0         0 variables are exactly at the bounds\n",
      "\n",
      "At iterate    0    f=  6.93147D+01    |proj g|=  4.80343D+01\n",
      "\n",
      "           * * *\n",
      "\n",
      "Tit   = total number of iterations\n",
      "Tnf   = total number of function evaluations\n",
      "Tnint = total number of segments explored during Cauchy searches\n",
      "Skip  = number of BFGS updates skipped\n",
      "Nact  = number of active bounds at final generalized Cauchy point\n",
      "Projg = norm of the final projected gradient\n",
      "F     = final function value\n",
      "\n",
      "           * * *\n",
      "\n",
      "   N    Tit     Tnf  Tnint  Skip  Nact     Projg        F\n",
      "   21     13     15      1     0     0   2.335D-04   2.476D+01\n",
      "  F =   24.755705090779429     \n",
      "\n",
      "CONVERGENCE: REL_REDUCTION_OF_F_<=_FACTR*EPSMCH             \n"
     ]
    }
   ],
   "source": [
    "clf = LogisticRegression(verbose=True).fit(x, y)"
   ]
  },
  {
   "cell_type": "code",
   "execution_count": 70,
   "id": "0e9d8afc",
   "metadata": {},
   "outputs": [
    {
     "data": {
      "text/plain": [
       "0.94"
      ]
     },
     "execution_count": 70,
     "metadata": {},
     "output_type": "execute_result"
    }
   ],
   "source": [
    "accuracy_score(y, clf.predict(x))"
   ]
  },
  {
   "cell_type": "code",
   "execution_count": null,
   "id": "a185df99",
   "metadata": {},
   "outputs": [],
   "source": []
  }
 ],
 "metadata": {
  "kernelspec": {
   "display_name": "ml_algorithms",
   "language": "python",
   "name": "ml_algorithms"
  },
  "language_info": {
   "codemirror_mode": {
    "name": "ipython",
    "version": 3
   },
   "file_extension": ".py",
   "mimetype": "text/x-python",
   "name": "python",
   "nbconvert_exporter": "python",
   "pygments_lexer": "ipython3",
   "version": "3.9.7"
  }
 },
 "nbformat": 4,
 "nbformat_minor": 5
}
